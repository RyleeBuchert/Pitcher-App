{
 "cells": [
  {
   "cell_type": "code",
   "execution_count": 48,
   "metadata": {},
   "outputs": [],
   "source": [
    "import requests\n",
    "from bs4 import BeautifulSoup\n",
    "import datetime\n",
    "from dateutil.parser import parse\n"
   ]
  },
  {
   "cell_type": "code",
   "execution_count": null,
   "metadata": {},
   "outputs": [],
   "source": [
    "URL = \"https://www.mlb.com/probable-pitchers/2022-06-26\"\n",
    "soup = BeautifulSoup(requests.get(URL).content, 'html5lib')\n",
    "matchups = soup.find_all(\"div\", {\"class\": \"probable-pitchers__matchup\"})"
   ]
  },
  {
   "cell_type": "code",
   "execution_count": null,
   "metadata": {},
   "outputs": [],
   "source": [
    "# Game id\n",
    "game_id = matchups[0].attrs['data-gamepk']\n",
    "\n",
    "\n",
    "# Team id's\n",
    "# <div class=\"probable-pitchers__game\" data-team-id-away=\"121\" data-team-id-home=\"146\">\n",
    "away_id = matchups[0].find(\"div\", {\"class\": \"probable-pitchers__game\"}).attrs['data-team-id-away']\n",
    "home_id = matchups[0].find(\"div\", {\"class\": \"probable-pitchers__game\"}).attrs['data-team-id-home']\n",
    "\n",
    "\n",
    "# Team Logo\n",
    "# <div class=\"probable-pitchers__team-logo-image probable-pitchers__team-logo-image--away\">\n",
    "away_logo_link = f\"https://www.mlbstatic.com/team-logos/{away_id}.svg\"\n",
    "home_logo_link = f\"https://www.mlbstatic.com/team-logos/{home_id}.svg\"\n",
    "\n",
    "\n",
    "# Game date time\n",
    "# <div class=\"probable-pitchers__game-date-time\">\n",
    "game_datetime = parse(matchups[0].find(\"div\", {\"class\": \"probable-pitchers__game-date-time\"}).find(\"time\").text.lstrip().rstrip(), fuzzy=True)\n",
    "\n",
    "\n",
    "# Game location\n",
    "# <div class=\"probable-pitchers__game-location\">\n",
    "game_location = matchups[0].find(\"div\", {\"class\": \"probable-pitchers__game-location\"}).text.lstrip().rstrip()[3:]\n",
    "\n",
    "\n",
    "# Game broadcast\n",
    "# <div class=\"probable-pitchers__broadcasts\">\n",
    "game_broadcast = matchups[0].find(\"div\", {\"class\": \"probable-pitchers__broadcasts\"}).text.lstrip().rstrip()[4:]\n",
    "\n",
    "\n",
    "# Overviews for pitchers\n",
    "# <div class=\"probable-pitchers__pitcher-overview\">\n",
    "#\t--- Away is first, home is second\n",
    "#\t--- Follows Away @ Home rule\n",
    "pitcher_ov = matchups[0].find_all(\"div\", {\"class\": \"probable-pitchers__pitcher-overview\"})\n",
    "\n",
    "\n",
    "# Pitcher name\n",
    "# <div class=\"probable-pitchers__pitcher-name\">\n",
    "# <a class=\"probable-pitchers__pitcher-name-link\" href=\"/player/david-peterson-656849\">David Peterson</a>\n",
    "pitcher_names = matchups[0].find_all(\"a\", {\"class\": \"probable-pitchers__pitcher-name-link\"})\n",
    "\n",
    "away_pitcher_name = pitcher_names[0].text.lstrip().rstrip()\n",
    "away_pitcher_page_link = 'https://www.mlb.com' + pitcher_names[0].attrs['href']\n",
    "away_pitcher_mlb_id = away_pitcher_page_link[-6:]\n",
    "\n",
    "home_pitcher_name = pitcher_names[1].text.lstrip().rstrip()\n",
    "home_pitcher_page_link = 'https://www.mlb.com' + pitcher_names[1].attrs['href']\n",
    "home_pitcher_mlb_id = home_pitcher_page_link[-6:]\n",
    "\n",
    "\n",
    "# Pitcher details (hand)\n",
    "# <div class=\"probable-pitchers__pitcher-details\">\n",
    "# <span class=\"probable-pitchers__pitcher-pitch-hand\">\n",
    "pitcher_hands = matchups[0].find_all(\"span\", {\"class\": \"probable-pitchers__pitcher-pitch-hand\"})\n",
    "\n",
    "away_pitcher_hand = pitcher_hands[0].text.lstrip().rstrip()\n",
    "home_pitcher_hand = pitcher_hands[1].text.lstrip().rstrip()\n",
    "\n",
    "\n",
    "# Stats summary\n",
    "# <div class=\"probable-pitchers__pitcher-stats-summary\">\n"
   ]
  },
  {
   "cell_type": "code",
   "execution_count": null,
   "metadata": {},
   "outputs": [],
   "source": [
    "# Function to find all games on specified date\n",
    "def get_matchups(date):\n",
    "    soup = BeautifulSoup(requests.get(\"https://www.mlb.com/probable-pitchers/{date}\").content, 'html5lib')\n",
    "    matchups = soup.find_all(\"div\", {\"class\": \"probable-pitchers__matchup\"})\n",
    "\n",
    "    # Build games dictionary --- or push to database\n",
    "    game_data = {}\n",
    "    for game in matchups:\n",
    "        game_id = game.attrs['data-gamepk']\n"
   ]
  },
  {
   "cell_type": "code",
   "execution_count": null,
   "metadata": {},
   "outputs": [],
   "source": [
    "# Function to return info about game/teams\n",
    "def get_game_data(game):\n",
    "    # Game id\n",
    "    # Game id\n",
    "    game_id = game.attrs['data-gamepk']\n",
    "    \n",
    "    # Game date time\n",
    "    game_datetime = parse(game.find(\"div\", {\"class\": \"probable-pitchers__game-date-time\"}).find(\"time\").text.lstrip().rstrip(), fuzzy=True)\n",
    "\n",
    "    # Game location\n",
    "    game_location = game.find(\"div\", {\"class\": \"probable-pitchers__game-location\"}).text.lstrip().rstrip()[3:]\n",
    "\n",
    "    # Game broadcast\n",
    "    game_broadcast = game.find(\"div\", {\"class\": \"probable-pitchers__broadcasts\"}).text.lstrip().rstrip()[4:]\n",
    "\n",
    "    # Team names\n",
    "    away_team_name = game.find(\"span\", {\"class\": \"probable-pitchers__team-name--away\"}).text.lstrip().rstrip()\n",
    "    home_team_name = game.find(\"span\", {\"class\": \"probable-pitchers__team-name--home\"}).text.lstrip().rstrip()\n",
    "\n",
    "    # Team id's\n",
    "    away_id = game.find(\"div\", {\"class\": \"probable-pitchers__game\"}).attrs['data-team-id-away']\n",
    "    home_id = game.find(\"div\", {\"class\": \"probable-pitchers__game\"}).attrs['data-team-id-home']\n",
    "\n",
    "    # Add dictionary with team id's and related info\n",
    "\n",
    "    # Team Logo\n",
    "    away_logo_link = f\"https://www.mlbstatic.com/team-logos/{away_id}.svg\"\n",
    "    home_logo_link = f\"https://www.mlbstatic.com/team-logos/{home_id}.svg\""
   ]
  },
  {
   "cell_type": "code",
   "execution_count": null,
   "metadata": {},
   "outputs": [],
   "source": [
    "# Function to return probable pitchers info\n",
    "def get_pitcher_info(game):\n",
    "    # Pitcher names\n",
    "    pitcher_names = game.find_all(\"a\", {\"class\": \"probable-pitchers__pitcher-name-link\"})\n",
    "\n",
    "    away_pitcher_name = pitcher_names[0].text.lstrip().rstrip()\n",
    "    away_pitcher_page_link = 'https://www.mlb.com' + pitcher_names[0].attrs['href']\n",
    "    away_pitcher_mlb_id = away_pitcher_page_link[-6:]\n",
    "\n",
    "    home_pitcher_name = pitcher_names[1].text.lstrip().rstrip()\n",
    "    home_pitcher_page_link = 'https://www.mlb.com' + pitcher_names[1].attrs['href']\n",
    "    home_pitcher_mlb_id = home_pitcher_page_link[-6:]\n",
    "\n",
    "\n",
    "    # Pitcher details (hand)\n",
    "    pitcher_hands = game.find_all(\"span\", {\"class\": \"probable-pitchers__pitcher-pitch-hand\"})\n",
    "\n",
    "    away_pitcher_hand = pitcher_hands[0].text.lstrip().rstrip()\n",
    "    home_pitcher_hand = pitcher_hands[1].text.lstrip().rstrip()"
   ]
  }
 ],
 "metadata": {
  "kernelspec": {
   "display_name": "Python 3.9.12 64-bit (windows store)",
   "language": "python",
   "name": "python3"
  },
  "language_info": {
   "codemirror_mode": {
    "name": "ipython",
    "version": 3
   },
   "file_extension": ".py",
   "mimetype": "text/x-python",
   "name": "python",
   "nbconvert_exporter": "python",
   "pygments_lexer": "ipython3",
   "version": "3.9.12"
  },
  "orig_nbformat": 4,
  "vscode": {
   "interpreter": {
    "hash": "e68145d8c49e479fca897df90d914ed858565e3c5b8a275a80c2ccceb8e747e5"
   }
  }
 },
 "nbformat": 4,
 "nbformat_minor": 2
}
